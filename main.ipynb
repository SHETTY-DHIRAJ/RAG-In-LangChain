{
 "cells": [
  {
   "cell_type": "code",
   "execution_count": 1,
   "metadata": {},
   "outputs": [
    {
     "data": {
      "text/plain": [
       "True"
      ]
     },
     "execution_count": 1,
     "metadata": {},
     "output_type": "execute_result"
    }
   ],
   "source": [
    "import os\n",
    "from langchain_openai import AzureChatOpenAI, AzureOpenAIEmbeddings\n",
    "from dotenv import load_dotenv\n",
    "\n",
    "load_dotenv()"
   ]
  },
  {
   "cell_type": "code",
   "execution_count": 2,
   "metadata": {},
   "outputs": [],
   "source": [
    "# Initializing the Azure OpenAI LLM\n",
    "llm = AzureChatOpenAI(\n",
    "    azure_endpoint=os.environ[\"AZURE_OPENAI_ENDPOINT\"],\n",
    "    azure_deployment=os.environ[\"AZURE_OPENAI_DEPLOYMENT_NAME_LLM\"],\n",
    "    openai_api_version=os.environ[\"AZURE_OPENAI_API_VERSION_LLM\"],\n",
    ")"
   ]
  },
  {
   "cell_type": "code",
   "execution_count": 3,
   "metadata": {},
   "outputs": [],
   "source": [
    "# Initializing the Azure OpenAI Embedding\n",
    "embeddings = AzureOpenAIEmbeddings(\n",
    "    azure_endpoint=os.environ[\"AZURE_OPENAI_ENDPOINT\"],\n",
    "    azure_deployment=os.environ[\"AZURE_OPENAI_DEPLOYMENT_NAME_EMBEDDING\"],\n",
    "    openai_api_version=os.environ[\"AZURE_OPENAI_API_VERSION_EMBEDDING\"],\n",
    ")"
   ]
  },
  {
   "cell_type": "code",
   "execution_count": 4,
   "metadata": {},
   "outputs": [],
   "source": [
    "from langchain_core.vectorstores import InMemoryVectorStore\n",
    "\n",
    "vector_store = InMemoryVectorStore(embeddings)"
   ]
  },
  {
   "cell_type": "markdown",
   "metadata": {},
   "source": [
    "We’ll build an app that answers questions about the website's content. The specific website we will use is the [LLM Powered Autonomous Agents blog post](https://lilianweng.github.io/posts/2023-06-23-agent/) by Lilian Weng, which allows us to ask questions about the contents of the post."
   ]
  },
  {
   "cell_type": "code",
   "execution_count": 5,
   "metadata": {},
   "outputs": [
    {
     "name": "stderr",
     "output_type": "stream",
     "text": [
      "USER_AGENT environment variable not set, consider setting it to identify your requests.\n"
     ]
    }
   ],
   "source": [
    "# We can create a simple indexing pipeline and RAG chain to do this in ~50 lines of code.\n",
    "\n",
    "import bs4\n",
    "from langchain import hub\n",
    "from langchain_community.document_loaders import WebBaseLoader\n",
    "from langchain_core.documents import Document\n",
    "from langchain_text_splitters import RecursiveCharacterTextSplitter\n",
    "from langgraph.graph import START, StateGraph\n",
    "from typing_extensions import List, TypedDict\n",
    "\n",
    "# Load and chunk contents of the blog\n",
    "loader = WebBaseLoader(\n",
    "    web_paths=(\"https://lilianweng.github.io/posts/2023-06-23-agent/\",),\n",
    "    bs_kwargs=dict(\n",
    "        parse_only=bs4.SoupStrainer(\n",
    "            # Only parse the main content of the blog.\n",
    "            class_=(\"post-content\", \"post-title\", \"post-header\")\n",
    "        )\n",
    "    ),\n",
    ")\n",
    "docs = loader.load()\n",
    "\n",
    "text_splitter = RecursiveCharacterTextSplitter(chunk_size=1000, chunk_overlap=200)\n",
    "all_splits = text_splitter.split_documents(docs)\n",
    "\n",
    "# Index chunks\n",
    "_ = vector_store.add_documents(documents=all_splits)\n",
    "\n",
    "# Define prompt for question-answering\n",
    "prompt = hub.pull(\"rlm/rag-prompt\")\n",
    "\n",
    "\n",
    "# Define state for application\n",
    "class State(TypedDict):\n",
    "    question: str\n",
    "    context: List[Document]\n",
    "    answer: str\n",
    "\n",
    "\n",
    "# Define application steps\n",
    "def retrieve(state: State):\n",
    "    retrieved_docs = vector_store.similarity_search(state[\"question\"])\n",
    "    return {\"context\": retrieved_docs}\n",
    "\n",
    "\n",
    "def generate(state: State):\n",
    "    docs_content = \"\\n\\n\".join(doc.page_content for doc in state[\"context\"])\n",
    "    messages = prompt.invoke({\"question\": state[\"question\"], \"context\": docs_content})\n",
    "    response = llm.invoke(messages)\n",
    "    return {\"answer\": response.content}\n",
    "\n",
    "\n",
    "# Compile application and test\n",
    "graph_builder = StateGraph(State).add_sequence([retrieve, generate])\n",
    "graph_builder.add_edge(START, \"retrieve\")\n",
    "graph = graph_builder.compile()"
   ]
  },
  {
   "cell_type": "code",
   "execution_count": 6,
   "metadata": {},
   "outputs": [
    {
     "name": "stdout",
     "output_type": "stream",
     "text": [
      "['93cdddd4-28e6-4427-b823-cf5f6698a89c', '811d30e0-c991-446b-8fe0-041c8846789e', '336327c0-19b1-4e0f-a768-c6a65d398952', 'f49687a3-856d-4a04-a736-870ee82a00cc', 'ac4ba4a4-7afb-4f53-bf11-269f683db291', '97292a49-6b1f-467a-a2c3-0514e02879e7', '819c435b-2c96-43a8-9e56-3ab9b00a4ab1', 'aff61713-346c-4dc5-bb1b-418fc03bbb7a', '558b48c5-3dfa-4a72-b99b-1caed1391142', 'dc361d2a-a710-4eb5-97b5-490ad142b564', '3bb65e65-ca24-416c-86e0-98a2f029c60f', '2cd3e60d-867a-403d-b085-110f2ce41009', 'b6887319-2dfd-4922-bc83-95b5b88819ea', 'b632e7ab-2cba-4ce9-8073-2c355b894de5', '85d01494-5cba-4d31-a763-0a592e30c9c8', '08b8f593-6bfe-40d9-9626-74772c1051ac', '048246be-81c8-4cf5-9184-e43534f42a9c', '4e18961d-eec0-40c6-97cb-9ea3b94e50b0', '5ebc7622-e665-4b7e-af9d-0b3dc063b242', '289884f7-ea9d-400e-8ded-49f300c197fc', 'eb7ff36b-581a-442e-a54c-c8ed49e4bb40', '12099733-dbc3-4028-a732-dde996ce5b23', '47721641-257c-476b-a891-4356282e01ca', 'b3ebe6aa-0c0c-4715-9a60-cb016ef56337', '3c5d1fb8-56a8-4f90-a182-5cf0c344df84', '16c9c810-155f-45b4-877b-46ef037350f0', '2b75c4cc-ffe0-4036-a789-55d304bb07c1', '21b323cd-cbe6-47ad-ad2d-759646cc4ed9', '31e87b5f-ee5b-4e26-8011-bdf87babb83b', '6207078f-089c-4eec-8473-3880892bc315', '61559225-52ef-424a-9279-1d95c369d7d6', 'a8830dbb-1e9b-40bd-8d14-d9de417378ff', '5123a104-6cc2-4aa3-8c83-c0562220fd98', 'ed4b225d-334d-4260-8585-67079f46e98b', 'bed628e9-9346-4243-b155-f30d1a699c80', '94633bd2-954c-4efd-ae63-255ac078d0db', 'ffb859a3-91f5-418c-a693-a56b9f877dce', '4c8542e6-623c-434f-b9aa-80e7df4981eb', '8b0b704b-f891-40a1-832d-061648b02de7', '9556a289-c973-49a2-8b37-b96f6808e58e', '4c8232c1-3a3d-4750-99f4-c5b45d04b970', '427768dd-a4c1-45b5-ae72-504aa153bd51', 'f54aa088-e5bc-4160-a092-23f2b658e36b', '185a9aba-d468-45cd-8748-9aeb4015f664', '06424475-1153-448e-b010-7bab2f0279ad', '7c0b82b3-3b59-48c4-9408-7b5ac04883b2', '05991ef4-e472-4e4c-a313-82e83a67e7ed', '58ca151e-4eca-4a14-b184-03a9f60e37d6', 'c2a1c99a-594f-4b66-96df-5c02215f4a74', 'ffa4c56b-fa73-41ca-8b22-ccaf99b13ba5', 'cf3436c8-17d0-4f4e-9c65-0287253ca7d1', 'dad93764-c9a2-440f-92f3-d7c5d1d76ebb', '1745642a-4a94-4ec8-88b9-0c8b55b0e37f', '323c85d6-bc2d-46c7-b410-04a833a65c74', 'ee342ee4-0833-4ff2-af8e-91b61afdc7e7', '22c36798-b1df-4815-ab25-3c57fc42fd87', 'e70d0ec1-fbef-4611-b952-8533f1327307', '9745e52b-f565-447f-9784-f349f012452d', '586c7081-25c1-4cfb-9783-460c6d5dc15d', '70767531-e147-432f-b343-d178fd922cab', '6c8d4706-db79-4df1-9553-3d47fc74c3cf', '8c876941-bf47-41ef-848e-a93adbc97d55', 'a4ccd41f-e207-45db-b3c7-88ce37ad5b21', '018721f4-44c5-468b-b14a-a634000db3a9', '3202e0b6-49bf-4181-90ec-d42288c53d52', 'f9a8f30c-b663-4de7-8107-7e6ffada327d']\n"
     ]
    }
   ],
   "source": [
    "# This will printing vector store.\n",
    "print(_)"
   ]
  },
  {
   "cell_type": "code",
   "execution_count": 8,
   "metadata": {},
   "outputs": [
    {
     "name": "stdout",
     "output_type": "stream",
     "text": [
      "Task decomposition involves breaking down a complex task into smaller, manageable steps to facilitate easier execution and understanding. This process can be accomplished using various methods, including prompting by language models, task-specific instructions, or human inputs. It aims to simplify difficult tasks by creating subgoals that can be addressed sequentially.\n"
     ]
    }
   ],
   "source": [
    "response = graph.invoke({\"question\": \"What is Task Decomposition?\"})\n",
    "print(response[\"answer\"])"
   ]
  },
  {
   "cell_type": "code",
   "execution_count": 9,
   "metadata": {},
   "outputs": [
    {
     "data": {
      "image/png": "[encoded data removed]",
      "text/plain": [
       "<IPython.core.display.Image object>"
      ]
     },
     "metadata": {},
     "output_type": "display_data"
    }
   ],
   "source": [
    "from IPython.display import Image, display\n",
    "\n",
    "display(Image(graph.get_graph().draw_mermaid_png()))"
   ]
  },
  {
   "cell_type": "code",
   "execution_count": null,
   "metadata": {},
   "outputs": [],
   "source": []
  },
  {
   "cell_type": "markdown",
   "metadata": {},
   "source": [
    "## Advanced RAG"
   ]
  },
  {
   "cell_type": "markdown",
   "metadata": {},
   "source": [
    "#### 1. Indexing"
   ]
  },
  {
   "cell_type": "code",
   "execution_count": 10,
   "metadata": {},
   "outputs": [
    {
     "name": "stdout",
     "output_type": "stream",
     "text": [
      "Total characters: 43130\n"
     ]
    }
   ],
   "source": [
    "# Only keep post title, headers, and content from the full HTML.\n",
    "bs4_strainer = bs4.SoupStrainer(class_=(\"post-title\", \"post-header\", \"post-content\"))\n",
    "loader = WebBaseLoader(\n",
    "    web_paths=(\"https://lilianweng.github.io/posts/2023-06-23-agent/\",),\n",
    "    bs_kwargs={\"parse_only\": bs4_strainer},\n",
    ")\n",
    "docs = loader.load()\n",
    "\n",
    "print(f\"Total characters: {len(docs[0].page_content)}\")"
   ]
  },
  {
   "cell_type": "code",
   "execution_count": 11,
   "metadata": {},
   "outputs": [
    {
     "name": "stdout",
     "output_type": "stream",
     "text": [
      "\n",
      "\n",
      "      LLM Powered Autonomous Agents\n",
      "    \n",
      "Date: June 23, 2023  |  Estimated Reading Time: 31 min  |  Author: Lilian Weng\n",
      "\n",
      "\n",
      "Building agents with LLM (large language model) as its core controller is a cool concept. Several proof-of-concepts demos, such as AutoGPT, GPT-Engineer and BabyAGI, serve as inspiring examples. The potentiality of LLM extends beyond generating well-written copies, stories, essays and programs; it can be framed as a powerful general problem solver.\n",
      "Agent System Overview#\n",
      "In\n"
     ]
    }
   ],
   "source": [
    "print(docs[0].page_content[:500])"
   ]
  },
  {
   "cell_type": "code",
   "execution_count": 12,
   "metadata": {},
   "outputs": [
    {
     "name": "stdout",
     "output_type": "stream",
     "text": [
      "Split blog post into 66 sub-documents.\n"
     ]
    }
   ],
   "source": [
    "text_splitter = RecursiveCharacterTextSplitter(\n",
    "    chunk_size=1000,  # chunk size (characters)\n",
    "    chunk_overlap=200,  # chunk overlap (characters)\n",
    "    add_start_index=True,  # track index in original document\n",
    ")\n",
    "all_splits = text_splitter.split_documents(docs)\n",
    "\n",
    "print(f\"Split blog post into {len(all_splits)} sub-documents.\")"
   ]
  },
  {
   "cell_type": "markdown",
   "metadata": {},
   "source": [
    "#### 2. Retrieval and Generation"
   ]
  },
  {
   "cell_type": "code",
   "execution_count": 13,
   "metadata": {},
   "outputs": [
    {
     "name": "stdout",
     "output_type": "stream",
     "text": [
      "You are an assistant for question-answering tasks. Use the following pieces of retrieved context to answer the question. If you don't know the answer, just say that you don't know. Use three sentences maximum and keep the answer concise.\n",
      "Question: (question goes here) \n",
      "Context: (context goes here) \n",
      "Answer:\n"
     ]
    }
   ],
   "source": [
    "prompt = hub.pull(\"rlm/rag-prompt\")\n",
    "\n",
    "example_messages = prompt.invoke(\n",
    "    {\"context\": \"(context goes here)\", \"question\": \"(question goes here)\"}\n",
    ").to_messages()\n",
    "\n",
    "print(example_messages[0].content)"
   ]
  },
  {
   "cell_type": "code",
   "execution_count": 14,
   "metadata": {},
   "outputs": [
    {
     "data": {
      "text/plain": [
       "{'source': 'https://lilianweng.github.io/posts/2023-06-23-agent/',\n",
       " 'start_index': 8,\n",
       " 'section': 'beginning'}"
      ]
     },
     "execution_count": 14,
     "metadata": {},
     "output_type": "execute_result"
    }
   ],
   "source": [
    "# Query analysis\n",
    "\n",
    "total_documents = len(all_splits)\n",
    "third = total_documents // 3\n",
    "\n",
    "for i, document in enumerate(all_splits):\n",
    "    if i < third:\n",
    "        document.metadata[\"section\"] = \"beginning\"\n",
    "    elif i < 2 * third:\n",
    "        document.metadata[\"section\"] = \"middle\"\n",
    "    else:\n",
    "        document.metadata[\"section\"] = \"end\"\n",
    "\n",
    "\n",
    "all_splits[0].metadata"
   ]
  },
  {
   "cell_type": "code",
   "execution_count": 15,
   "metadata": {},
   "outputs": [
    {
     "name": "stdout",
     "output_type": "stream",
     "text": [
      "['514cfa4e-428d-4d12-8adc-7b5d59d199d4', '6d0f6025-3961-472c-9d01-edd077d97481', '47e3ce79-c1b0-4181-aad2-e73c105d5340']\n"
     ]
    }
   ],
   "source": [
    "# Reinitialize the vector store\n",
    "vector_store = InMemoryVectorStore(embeddings)\n",
    "\n",
    "document_ids = vector_store.add_documents(documents=all_splits)\n",
    "\n",
    "print(document_ids[:3])"
   ]
  },
  {
   "cell_type": "code",
   "execution_count": 16,
   "metadata": {},
   "outputs": [],
   "source": [
    "# Let's next define a schema for our search query\n",
    "\n",
    "from typing import Literal\n",
    "\n",
    "from typing_extensions import Annotated\n",
    "\n",
    "\n",
    "class Search(TypedDict):\n",
    "    \"\"\"Search query.\"\"\"\n",
    "\n",
    "    query: Annotated[str, ..., \"Search query to run.\"]\n",
    "    section: Annotated[\n",
    "        Literal[\"beginning\", \"middle\", \"end\"],\n",
    "        ...,\n",
    "        \"Section to query.\",\n",
    "    ]"
   ]
  },
  {
   "cell_type": "markdown",
   "metadata": {},
   "source": [
    "##### Finally, we add a step to our LangGraph application to generate a query from the user's raw input:"
   ]
  },
  {
   "cell_type": "code",
   "execution_count": 17,
   "metadata": {},
   "outputs": [],
   "source": [
    "class State(TypedDict):\n",
    "    question: str\n",
    "    query: Search # Search query\n",
    "    context: List[Document]\n",
    "    answer: str\n",
    "\n",
    "\n",
    "def analyze_query(state: State):\n",
    "    structured_llm = llm.with_structured_output(Search)\n",
    "    query = structured_llm.invoke(state[\"question\"])\n",
    "    return {\"query\": query}\n",
    "\n",
    "\n",
    "def retrieve(state: State):\n",
    "    query = state[\"query\"]\n",
    "    retrieved_docs = vector_store.similarity_search(\n",
    "        query[\"query\"],\n",
    "        filter=lambda doc: doc.metadata.get(\"section\") == query[\"section\"],\n",
    "    )\n",
    "    return {\"context\": retrieved_docs}\n",
    "\n",
    "\n",
    "def generate(state: State):\n",
    "    docs_content = \"\\n\\n\".join(doc.page_content for doc in state[\"context\"])\n",
    "    messages = prompt.invoke({\"question\": state[\"question\"], \"context\": docs_content})\n",
    "    response = llm.invoke(messages)\n",
    "    return {\"answer\": response.content}\n",
    "\n",
    "\n",
    "graph_builder = StateGraph(State).add_sequence([analyze_query, retrieve, generate])\n",
    "graph_builder.add_edge(START, \"analyze_query\")\n",
    "graph = graph_builder.compile()"
   ]
  },
  {
   "cell_type": "code",
   "execution_count": 18,
   "metadata": {},
   "outputs": [
    {
     "name": "stdout",
     "output_type": "stream",
     "text": [
      "{'analyze_query': {'query': {'query': 'Task Decomposition', 'section': 'end'}}}\n",
      "\n",
      "----------------\n",
      "\n",
      "{'retrieve': {'context': [Document(id='249ea319-1cbe-4d5a-86f5-8f9b34c2c1a8', metadata={'source': 'https://lilianweng.github.io/posts/2023-06-23-agent/', 'start_index': 32069, 'section': 'end'}, page_content='},\\n  {\\n    \"role\": \"user\",\\n    \"content\": \"{{There are 10 levels in total. The main character is a plumber named Mario, who can walk and jump. It is a classical platform game just like Super Mario. The main character moves from left to right, trying to get to the destination, where there are many obstacles and attacks from enemies in the process.}}\\\\n\\\\nIs anything else unclear? If yes, only answer in the form:\\\\n{remaining unclear areas} remaining questions.\\\\n{Next question}\\\\nIf everything is sufficiently clear, only answer \\\\\"Nothing more to clarify.\\\\\".\"\\n  },\\n  {\\n    \"role\": \"assistant\",\\n    \"content\": \"Remaining unclear areas: 2 remaining questions.\\\\nCan you provide more information about how the MVC components are split into separate files?\"\\n  },\\n  {\\n    \"role\": \"user\",\\n    \"content\": \"{{Make your own assumptions and state them explicitly before starting}}\"\\n  }\\n]\\nThen after these clarification, the agent moved into the code writing mode with a different system message.'), Document(id='3be8e49d-e40c-4a57-a322-b896ee21c48c', metadata={'source': 'https://lilianweng.github.io/posts/2023-06-23-agent/', 'start_index': 39220, 'section': 'end'}, page_content='Finite context length: The restricted context capacity limits the inclusion of historical information, detailed instructions, API call context, and responses. The design of the system has to work with this limited communication bandwidth, while mechanisms like self-reflection to learn from past mistakes would benefit a lot from long or infinite context windows. Although vector stores and retrieval can provide access to a larger knowledge pool, their representation power is not as powerful as full attention.\\n\\n\\nChallenges in long-term planning and task decomposition: Planning over a lengthy history and effectively exploring the solution space remain challenging. LLMs struggle to adjust plans when faced with unexpected errors, making them less robust compared to humans who learn from trial and error.'), Document(id='a1e2b07a-14c7-4889-b14b-9ac1a211582d', metadata={'source': 'https://lilianweng.github.io/posts/2023-06-23-agent/', 'start_index': 33887, 'section': 'end'}, page_content='FILENAME\\nCODE\\nYou will start with the “entrypoint” file, then go to the ones that are imported by that file, and so on.\\nPlease note that the code should be fully functional. No placeholders.\\nFollow a language and framework appropriate best practice file naming convention.\\nMake sure that files contain all imports, types etc. Make sure that code in different files are compatible with each other.\\nEnsure to implement all code, if you are unsure, write a plausible implementation.\\nInclude module dependency or package manager dependency definition file.\\nBefore you finish, double check that all parts of the architecture is present in the files.\\nUseful to know:\\nYou almost always put different classes in different files.\\nFor Python, you always create an appropriate requirements.txt file.\\nFor NodeJS, you always create an appropriate package.json file.\\nYou always add a comment briefly describing the purpose of the function definition.\\nYou try to add comments explaining very complex bits of logic.'), Document(id='9cd6a46d-e54e-402f-9e0c-2d74ced928f3', metadata={'source': 'https://lilianweng.github.io/posts/2023-06-23-agent/', 'start_index': 33070, 'section': 'end'}, page_content='You will get instructions for code to write.\\nYou will write a very long answer. Make sure that every detail of the architecture is, in the end, implemented as code.\\nMake sure that every detail of the architecture is, in the end, implemented as code.\\nThink step by step and reason yourself to the right decisions to make sure we get it right.\\nYou will first lay out the names of the core classes, functions, methods that will be necessary, as well as a quick comment on their purpose.\\nThen you will output the content of each file including ALL code.\\nEach file must strictly follow a markdown code block format, where the following tokens must be replaced such that\\nFILENAME is the lowercase file name including the file extension,\\nLANG is the markup code block language for the code’s language, and CODE is the code:\\nFILENAME\\nCODE\\nYou will start with the “entrypoint” file, then go to the ones that are imported by that file, and so on.')]}}\n",
      "\n",
      "----------------\n",
      "\n",
      "{'generate': {'answer': 'The end of the post discusses the challenges related to long-term planning and task decomposition in language models. It mentions that these models struggle with adjusting plans when faced with unexpected errors, making them less robust compared to humans. This highlights the complexity and limitations of effectively managing tasks over extended periods.'}}\n",
      "\n",
      "----------------\n",
      "\n"
     ]
    }
   ],
   "source": [
    "for step in graph.stream(\n",
    "    {\"question\": \"What does the end of the post say about Task Decomposition?\"},\n",
    "    stream_mode=\"updates\",\n",
    "):\n",
    "    print(f\"{step}\\n\\n----------------\\n\")"
   ]
  },
  {
   "cell_type": "code",
   "execution_count": 19,
   "metadata": {},
   "outputs": [
    {
     "data": {
      "image/png": "[encoded data removed]",
      "text/plain": [
       "<IPython.core.display.Image object>"
      ]
     },
     "metadata": {},
     "output_type": "display_data"
    }
   ],
   "source": [
    "from IPython.display import Image, display\n",
    "\n",
    "display(Image(graph.get_graph().draw_mermaid_png()))"
   ]
  },
  {
   "cell_type": "markdown",
   "metadata": {},
   "source": [
    "## Chains"
   ]
  },
  {
   "cell_type": "code",
   "execution_count": 20,
   "metadata": {},
   "outputs": [],
   "source": [
    "# Reinitialize the vector store\n",
    "vector_store = InMemoryVectorStore(embeddings)\n",
    "\n",
    "# Reinitialize the text splitter\n",
    "all_splits = text_splitter.split_documents(docs)\n",
    "\n",
    "_ = vector_store.add_documents(documents=all_splits)"
   ]
  },
  {
   "cell_type": "markdown",
   "metadata": {},
   "source": [
    "Conversational experiences can be naturally represented using a sequence of messages. In addition to messages from the user and assistant, retrieved documents and other artifacts can be incorporated into a message sequence via tool messages."
   ]
  },
  {
   "cell_type": "code",
   "execution_count": 21,
   "metadata": {},
   "outputs": [],
   "source": [
    "from langgraph.graph import MessagesState\n",
    "\n",
    "graph_builder = StateGraph(MessagesState)"
   ]
  },
  {
   "cell_type": "code",
   "execution_count": 22,
   "metadata": {},
   "outputs": [],
   "source": [
    "# Let's turn our retrieval step into a tool\n",
    "from langchain_core.tools import tool\n",
    "\n",
    "@tool(response_format=\"content_and_artifact\")\n",
    "def retrieve(query: str):\n",
    "    \"\"\"Retrieve information related to a query.\"\"\"\n",
    "    retrieved_docs = vector_store.similarity_search(query, k=2)\n",
    "    serialized = \"\\n\\n\".join(\n",
    "        (f\"Source: {doc.metadata}\\n\" f\"Content: {doc.page_content}\")\n",
    "        for doc in retrieved_docs\n",
    "    )\n",
    "    return serialized, retrieved_docs"
   ]
  },
  {
   "cell_type": "markdown",
   "metadata": {},
   "source": [
    "Our graph will consist of three nodes:\n",
    "\n",
    "1. A node that fields the user input, either generating a query for the retriever or responding directly;\n",
    "2. A node for the retriever tool that executes the retrieval step;\n",
    "3. A node that generates the final response using the retrieved context.\n",
    "\n",
    "We build them below. Note that we leverage another pre-built LangGraph component, [ToolNode](https://langchain-ai.github.io/langgraph/reference/prebuilt/#langgraph.prebuilt.tool_node.ToolNode), that executes the tool and adds the result as a ToolMessage to the state."
   ]
  },
  {
   "cell_type": "code",
   "execution_count": 23,
   "metadata": {},
   "outputs": [],
   "source": [
    "from langchain_core.messages import SystemMessage\n",
    "from langgraph.prebuilt import ToolNode\n",
    "\n",
    "\n",
    "# Step 1: Generate an AIMessage that may include a tool-call to be sent.\n",
    "def query_or_respond(state: MessagesState):\n",
    "    \"\"\"Generate tool call for retrieval or respond.\"\"\"\n",
    "    llm_with_tools = llm.bind_tools([retrieve])\n",
    "    response = llm_with_tools.invoke(state[\"messages\"])\n",
    "    # MessagesState appends messages to state instead of overwriting\n",
    "    return {\"messages\": [response]}\n",
    "\n",
    "\n",
    "# Step 2: Execute the retrieval.\n",
    "tools = ToolNode([retrieve])\n",
    "\n",
    "\n",
    "# Step 3: Generate a response using the retrieved content.\n",
    "def generate(state: MessagesState):\n",
    "    \"\"\"Generate answer.\"\"\"\n",
    "    # Get generated ToolMessages\n",
    "    recent_tool_messages = []\n",
    "    for message in reversed(state[\"messages\"]):\n",
    "        if message.type == \"tool\":\n",
    "            recent_tool_messages.append(message)\n",
    "        else:\n",
    "            break\n",
    "    tool_messages = recent_tool_messages[::-1]\n",
    "\n",
    "    # Format into prompt\n",
    "    docs_content = \"\\n\\n\".join(doc.content for doc in tool_messages)\n",
    "    system_message_content = (\n",
    "        \"You are an assistant for question-answering tasks. \"\n",
    "        \"Use the following pieces of retrieved context to answer \"\n",
    "        \"the question. If you don't know the answer, say that you \"\n",
    "        \"don't know. Use three sentences maximum and keep the \"\n",
    "        \"answer concise.\"\n",
    "        \"\\n\\n\"\n",
    "        f\"{docs_content}\"\n",
    "    )\n",
    "    conversation_messages = [\n",
    "        message\n",
    "        for message in state[\"messages\"]\n",
    "        if message.type in (\"human\", \"system\")\n",
    "        or (message.type == \"ai\" and not message.tool_calls)\n",
    "    ]\n",
    "    prompt = [SystemMessage(system_message_content)] + conversation_messages\n",
    "\n",
    "    # Run\n",
    "    response = llm.invoke(prompt)\n",
    "    return {\"messages\": [response]}"
   ]
  },
  {
   "cell_type": "markdown",
   "metadata": {},
   "source": [
    "Finally, we compile our application into a single graph object. In this case, we are just connecting the steps into a sequence. We also allow the first query_or_respond step to \"short-circuit\" and respond directly to the user if it does not generate a tool call. This allows our application to support conversational experiences-- e.g., responding to generic greetings that may not require a retrieval step"
   ]
  },
  {
   "cell_type": "code",
   "execution_count": 24,
   "metadata": {},
   "outputs": [],
   "source": [
    "from langgraph.graph import END\n",
    "from langgraph.prebuilt import tools_condition\n",
    "\n",
    "graph_builder.add_node(query_or_respond)\n",
    "graph_builder.add_node(tools)\n",
    "graph_builder.add_node(generate)\n",
    "\n",
    "graph_builder.set_entry_point(\"query_or_respond\")\n",
    "graph_builder.add_conditional_edges(\n",
    "    \"query_or_respond\",\n",
    "    tools_condition,\n",
    "    {END: END, \"tools\": \"tools\"},\n",
    ")\n",
    "graph_builder.add_edge(\"tools\", \"generate\")\n",
    "graph_builder.add_edge(\"generate\", END)\n",
    "\n",
    "graph = graph_builder.compile()"
   ]
  },
  {
   "cell_type": "code",
   "execution_count": 25,
   "metadata": {},
   "outputs": [
    {
     "data": {
      "image/png": "[encoded data removed]",
      "text/plain": [
       "<IPython.core.display.Image object>"
      ]
     },
     "metadata": {},
     "output_type": "display_data"
    }
   ],
   "source": [
    "from IPython.display import Image, display\n",
    "\n",
    "display(Image(graph.get_graph().draw_mermaid_png()))"
   ]
  },
  {
   "cell_type": "markdown",
   "metadata": {},
   "source": [
    "Let's test our application."
   ]
  },
  {
   "cell_type": "code",
   "execution_count": 26,
   "metadata": {},
   "outputs": [
    {
     "name": "stdout",
     "output_type": "stream",
     "text": [
      "================================\u001b[1m Human Message \u001b[0m=================================\n",
      "\n",
      "Hello\n",
      "==================================\u001b[1m Ai Message \u001b[0m==================================\n",
      "\n",
      "Hello! How can I assist you today?\n"
     ]
    }
   ],
   "source": [
    "# Application responds appropriately to messages that do not require an additional retrieval step:\n",
    "\n",
    "input_message = \"Hello\"\n",
    "\n",
    "for step in graph.stream(\n",
    "    {\"messages\": [{\"role\": \"user\", \"content\": input_message}]},\n",
    "    stream_mode=\"values\",\n",
    "):\n",
    "    step[\"messages\"][-1].pretty_print()"
   ]
  },
  {
   "cell_type": "code",
   "execution_count": 27,
   "metadata": {},
   "outputs": [
    {
     "name": "stdout",
     "output_type": "stream",
     "text": [
      "================================\u001b[1m Human Message \u001b[0m=================================\n",
      "\n",
      "What is Task Decomposition?\n",
      "==================================\u001b[1m Ai Message \u001b[0m==================================\n",
      "Tool Calls:\n",
      "  retrieve (call_nTEg6QThnTBcXX4Gz1WJLIXb)\n",
      " Call ID: call_nTEg6QThnTBcXX4Gz1WJLIXb\n",
      "  Args:\n",
      "    query: What is Task Decomposition?\n",
      "=================================\u001b[1m Tool Message \u001b[0m=================================\n",
      "Name: retrieve\n",
      "\n",
      "Source: {'source': 'https://lilianweng.github.io/posts/2023-06-23-agent/', 'start_index': 2192}\n",
      "Content: Tree of Thoughts (Yao et al. 2023) extends CoT by exploring multiple reasoning possibilities at each step. It first decomposes the problem into multiple thought steps and generates multiple thoughts per step, creating a tree structure. The search process can be BFS (breadth-first search) or DFS (depth-first search) with each state evaluated by a classifier (via a prompt) or majority vote.\n",
      "Task decomposition can be done (1) by LLM with simple prompting like \"Steps for XYZ.\\n1.\", \"What are the subgoals for achieving XYZ?\", (2) by using task-specific instructions; e.g. \"Write a story outline.\" for writing a novel, or (3) with human inputs.\n",
      "\n",
      "Source: {'source': 'https://lilianweng.github.io/posts/2023-06-23-agent/', 'start_index': 1585}\n",
      "Content: Fig. 1. Overview of a LLM-powered autonomous agent system.\n",
      "Component One: Planning#\n",
      "A complicated task usually involves many steps. An agent needs to know what they are and plan ahead.\n",
      "Task Decomposition#\n",
      "Chain of thought (CoT; Wei et al. 2022) has become a standard prompting technique for enhancing model performance on complex tasks. The model is instructed to “think step by step” to utilize more test-time computation to decompose hard tasks into smaller and simpler steps. CoT transforms big tasks into multiple manageable tasks and shed lights into an interpretation of the model’s thinking process.\n",
      "==================================\u001b[1m Ai Message \u001b[0m==================================\n",
      "\n",
      "Task decomposition is the process of breaking down a complicated task into smaller, more manageable steps. It can be done using techniques like Chain of Thought (CoT), where a model is prompted to \"think step by step,\" or through task-specific instructions and human inputs. This approach enhances performance on complex tasks by making them easier to tackle.\n"
     ]
    }
   ],
   "source": [
    "# executing a search, we can stream the steps to observe the query generation, retrieval, and answer generation:\n",
    "\n",
    "input_message = \"What is Task Decomposition?\"\n",
    "\n",
    "for step in graph.stream(\n",
    "    {\"messages\": [{\"role\": \"user\", \"content\": input_message}]},\n",
    "    stream_mode=\"values\",\n",
    "):\n",
    "    step[\"messages\"][-1].pretty_print()"
   ]
  },
  {
   "cell_type": "markdown",
   "metadata": {},
   "source": [
    "## Stateful management of chat history"
   ]
  },
  {
   "cell_type": "code",
   "execution_count": 28,
   "metadata": {},
   "outputs": [],
   "source": [
    "from langgraph.checkpoint.memory import MemorySaver\n",
    "\n",
    "memory = MemorySaver()\n",
    "graph = graph_builder.compile(checkpointer=memory)\n",
    "\n",
    "# Specify an ID for the thread\n",
    "config = {\"configurable\": {\"thread_id\": \"abc123\"}}"
   ]
  },
  {
   "cell_type": "code",
   "execution_count": 29,
   "metadata": {},
   "outputs": [
    {
     "name": "stdout",
     "output_type": "stream",
     "text": [
      "================================\u001b[1m Human Message \u001b[0m=================================\n",
      "\n",
      "What is Task Decomposition?\n",
      "==================================\u001b[1m Ai Message \u001b[0m==================================\n",
      "Tool Calls:\n",
      "  retrieve (call_2IzjECtk5CrECFRWOsnSq2vg)\n",
      " Call ID: call_2IzjECtk5CrECFRWOsnSq2vg\n",
      "  Args:\n",
      "    query: Task Decomposition\n",
      "=================================\u001b[1m Tool Message \u001b[0m=================================\n",
      "Name: retrieve\n",
      "\n",
      "Source: {'source': 'https://lilianweng.github.io/posts/2023-06-23-agent/', 'start_index': 2192}\n",
      "Content: Tree of Thoughts (Yao et al. 2023) extends CoT by exploring multiple reasoning possibilities at each step. It first decomposes the problem into multiple thought steps and generates multiple thoughts per step, creating a tree structure. The search process can be BFS (breadth-first search) or DFS (depth-first search) with each state evaluated by a classifier (via a prompt) or majority vote.\n",
      "Task decomposition can be done (1) by LLM with simple prompting like \"Steps for XYZ.\\n1.\", \"What are the subgoals for achieving XYZ?\", (2) by using task-specific instructions; e.g. \"Write a story outline.\" for writing a novel, or (3) with human inputs.\n",
      "\n",
      "Source: {'source': 'https://lilianweng.github.io/posts/2023-06-23-agent/', 'start_index': 1585}\n",
      "Content: Fig. 1. Overview of a LLM-powered autonomous agent system.\n",
      "Component One: Planning#\n",
      "A complicated task usually involves many steps. An agent needs to know what they are and plan ahead.\n",
      "Task Decomposition#\n",
      "Chain of thought (CoT; Wei et al. 2022) has become a standard prompting technique for enhancing model performance on complex tasks. The model is instructed to “think step by step” to utilize more test-time computation to decompose hard tasks into smaller and simpler steps. CoT transforms big tasks into multiple manageable tasks and shed lights into an interpretation of the model’s thinking process.\n",
      "==================================\u001b[1m Ai Message \u001b[0m==================================\n",
      "\n",
      "Task decomposition is the process of breaking down a complicated task into smaller, more manageable steps. It can be achieved through various methods, including using prompting techniques like Chain of Thought (CoT) or specific instructions, and even human inputs. This approach enhances performance on complex tasks by allowing for step-by-step problem-solving.\n"
     ]
    }
   ],
   "source": [
    "input_message = \"What is Task Decomposition?\"\n",
    "\n",
    "for step in graph.stream(\n",
    "    {\"messages\": [{\"role\": \"user\", \"content\": input_message}]},\n",
    "    stream_mode=\"values\",\n",
    "    config=config,\n",
    "):\n",
    "    step[\"messages\"][-1].pretty_print()"
   ]
  },
  {
   "cell_type": "code",
   "execution_count": 30,
   "metadata": {},
   "outputs": [
    {
     "name": "stdout",
     "output_type": "stream",
     "text": [
      "================================\u001b[1m Human Message \u001b[0m=================================\n",
      "\n",
      "Can you look up some common ways of doing it?\n",
      "==================================\u001b[1m Ai Message \u001b[0m==================================\n",
      "Tool Calls:\n",
      "  retrieve (call_koYekmCgEMKRSkkfKsifZNv6)\n",
      " Call ID: call_koYekmCgEMKRSkkfKsifZNv6\n",
      "  Args:\n",
      "    query: common methods for task decomposition\n",
      "=================================\u001b[1m Tool Message \u001b[0m=================================\n",
      "Name: retrieve\n",
      "\n",
      "Source: {'source': 'https://lilianweng.github.io/posts/2023-06-23-agent/', 'start_index': 2192}\n",
      "Content: Tree of Thoughts (Yao et al. 2023) extends CoT by exploring multiple reasoning possibilities at each step. It first decomposes the problem into multiple thought steps and generates multiple thoughts per step, creating a tree structure. The search process can be BFS (breadth-first search) or DFS (depth-first search) with each state evaluated by a classifier (via a prompt) or majority vote.\n",
      "Task decomposition can be done (1) by LLM with simple prompting like \"Steps for XYZ.\\n1.\", \"What are the subgoals for achieving XYZ?\", (2) by using task-specific instructions; e.g. \"Write a story outline.\" for writing a novel, or (3) with human inputs.\n",
      "\n",
      "Source: {'source': 'https://lilianweng.github.io/posts/2023-06-23-agent/', 'start_index': 1585}\n",
      "Content: Fig. 1. Overview of a LLM-powered autonomous agent system.\n",
      "Component One: Planning#\n",
      "A complicated task usually involves many steps. An agent needs to know what they are and plan ahead.\n",
      "Task Decomposition#\n",
      "Chain of thought (CoT; Wei et al. 2022) has become a standard prompting technique for enhancing model performance on complex tasks. The model is instructed to “think step by step” to utilize more test-time computation to decompose hard tasks into smaller and simpler steps. CoT transforms big tasks into multiple manageable tasks and shed lights into an interpretation of the model’s thinking process.\n",
      "==================================\u001b[1m Ai Message \u001b[0m==================================\n",
      "\n",
      "Common ways of task decomposition include using prompt techniques like Chain of Thought (CoT) to instruct models to \"think step by step.\" Other methods involve task-specific instructions, such as asking for a story outline for writing, or incorporating human inputs to guide the decomposition process. Additionally, it can be approached by using models to generate subgoals or steps based on the overall task.\n"
     ]
    }
   ],
   "source": [
    "input_message = \"Can you look up some common ways of doing it?\"\n",
    "\n",
    "for step in graph.stream(\n",
    "    {\"messages\": [{\"role\": \"user\", \"content\": input_message}]},\n",
    "    stream_mode=\"values\",\n",
    "    config=config,\n",
    "):\n",
    "    step[\"messages\"][-1].pretty_print()"
   ]
  },
  {
   "cell_type": "markdown",
   "metadata": {},
   "source": [
    "Note that the query generated by the model in the second question incorporates the conversational context."
   ]
  },
  {
   "cell_type": "markdown",
   "metadata": {},
   "source": [
    "## Agents"
   ]
  },
  {
   "cell_type": "code",
   "execution_count": 31,
   "metadata": {},
   "outputs": [],
   "source": [
    "from langgraph.prebuilt import create_react_agent\n",
    "\n",
    "agent_executor = create_react_agent(llm, [retrieve], checkpointer=memory)"
   ]
  },
  {
   "cell_type": "code",
   "execution_count": 32,
   "metadata": {},
   "outputs": [
    {
     "data": {
      "image/png": "[encoded data removed]",
      "text/plain": [
       "<IPython.core.display.Image object>"
      ]
     },
     "metadata": {},
     "output_type": "display_data"
    }
   ],
   "source": [
    "display(Image(agent_executor.get_graph().draw_mermaid_png()))"
   ]
  },
  {
   "cell_type": "code",
   "execution_count": 33,
   "metadata": {},
   "outputs": [
    {
     "name": "stdout",
     "output_type": "stream",
     "text": [
      "================================\u001b[1m Human Message \u001b[0m=================================\n",
      "\n",
      "What is the standard method for Task Decomposition?\n",
      "\n",
      "Once you get the answer, look up common extensions of that method.\n",
      "==================================\u001b[1m Ai Message \u001b[0m==================================\n",
      "Tool Calls:\n",
      "  retrieve (call_oYLNgFn3JxHpL3BFWShKeuoI)\n",
      " Call ID: call_oYLNgFn3JxHpL3BFWShKeuoI\n",
      "  Args:\n",
      "    query: standard method for Task Decomposition\n",
      "=================================\u001b[1m Tool Message \u001b[0m=================================\n",
      "Name: retrieve\n",
      "\n",
      "Source: {'source': 'https://lilianweng.github.io/posts/2023-06-23-agent/', 'start_index': 2192}\n",
      "Content: Tree of Thoughts (Yao et al. 2023) extends CoT by exploring multiple reasoning possibilities at each step. It first decomposes the problem into multiple thought steps and generates multiple thoughts per step, creating a tree structure. The search process can be BFS (breadth-first search) or DFS (depth-first search) with each state evaluated by a classifier (via a prompt) or majority vote.\n",
      "Task decomposition can be done (1) by LLM with simple prompting like \"Steps for XYZ.\\n1.\", \"What are the subgoals for achieving XYZ?\", (2) by using task-specific instructions; e.g. \"Write a story outline.\" for writing a novel, or (3) with human inputs.\n",
      "\n",
      "Source: {'source': 'https://lilianweng.github.io/posts/2023-06-23-agent/', 'start_index': 1585}\n",
      "Content: Fig. 1. Overview of a LLM-powered autonomous agent system.\n",
      "Component One: Planning#\n",
      "A complicated task usually involves many steps. An agent needs to know what they are and plan ahead.\n",
      "Task Decomposition#\n",
      "Chain of thought (CoT; Wei et al. 2022) has become a standard prompting technique for enhancing model performance on complex tasks. The model is instructed to “think step by step” to utilize more test-time computation to decompose hard tasks into smaller and simpler steps. CoT transforms big tasks into multiple manageable tasks and shed lights into an interpretation of the model’s thinking process.\n",
      "==================================\u001b[1m Ai Message \u001b[0m==================================\n",
      "Tool Calls:\n",
      "  retrieve (call_CDrsSMN2iMEjNyY0lBYPPW0m)\n",
      " Call ID: call_CDrsSMN2iMEjNyY0lBYPPW0m\n",
      "  Args:\n",
      "    query: common extensions of Task Decomposition method\n",
      "=================================\u001b[1m Tool Message \u001b[0m=================================\n",
      "Name: retrieve\n",
      "\n",
      "Source: {'source': 'https://lilianweng.github.io/posts/2023-06-23-agent/', 'start_index': 2192}\n",
      "Content: Tree of Thoughts (Yao et al. 2023) extends CoT by exploring multiple reasoning possibilities at each step. It first decomposes the problem into multiple thought steps and generates multiple thoughts per step, creating a tree structure. The search process can be BFS (breadth-first search) or DFS (depth-first search) with each state evaluated by a classifier (via a prompt) or majority vote.\n",
      "Task decomposition can be done (1) by LLM with simple prompting like \"Steps for XYZ.\\n1.\", \"What are the subgoals for achieving XYZ?\", (2) by using task-specific instructions; e.g. \"Write a story outline.\" for writing a novel, or (3) with human inputs.\n",
      "\n",
      "Source: {'source': 'https://lilianweng.github.io/posts/2023-06-23-agent/', 'start_index': 1585}\n",
      "Content: Fig. 1. Overview of a LLM-powered autonomous agent system.\n",
      "Component One: Planning#\n",
      "A complicated task usually involves many steps. An agent needs to know what they are and plan ahead.\n",
      "Task Decomposition#\n",
      "Chain of thought (CoT; Wei et al. 2022) has become a standard prompting technique for enhancing model performance on complex tasks. The model is instructed to “think step by step” to utilize more test-time computation to decompose hard tasks into smaller and simpler steps. CoT transforms big tasks into multiple manageable tasks and shed lights into an interpretation of the model’s thinking process.\n",
      "==================================\u001b[1m Ai Message \u001b[0m==================================\n",
      "\n",
      "The standard method for Task Decomposition is the Chain of Thought (CoT) prompting technique, which enhances model performance on complex tasks by instructing the model to \"think step by step.\" This method breaks down complicated tasks into smaller, manageable steps, allowing for better interpretation of the model’s thinking process and improved outcomes.\n",
      "\n",
      "Common extensions of the Task Decomposition method include:\n",
      "\n",
      "1. **Tree of Thoughts (ToT)**: This method builds on CoT by exploring multiple reasoning possibilities at each step. It decomposes the problem into multiple thought steps, generating various thoughts per step, resulting in a tree structure. The exploration can be done using Breadth-First Search (BFS) or Depth-First Search (DFS), with evaluations conducted through a classifier or majority vote.\n",
      "\n",
      "2. **Prompting Techniques**: Task decomposition can also be achieved by using simple prompts such as \"Steps for XYZ.\\n1.\" or questions like \"What are the subgoals for achieving XYZ?\" Additionally, task-specific instructions can be used, such as \"Write a story outline.\" for creative tasks.\n",
      "\n",
      "3. **Human Inputs**: Incorporating human-generated inputs can refine and direct the decomposition process.\n",
      "\n",
      "These extensions provide various ways to approach and solve complex tasks through decomposition, enhancing flexibility and effectiveness.\n"
     ]
    }
   ],
   "source": [
    "config = {\"configurable\": {\"thread_id\": \"def234\"}}\n",
    "\n",
    "input_message = (\n",
    "    \"What is the standard method for Task Decomposition?\\n\\n\"\n",
    "    \"Once you get the answer, look up common extensions of that method.\"\n",
    ")\n",
    "\n",
    "for event in agent_executor.stream(\n",
    "    {\"messages\": [{\"role\": \"user\", \"content\": input_message}]},\n",
    "    stream_mode=\"values\",\n",
    "    config=config,\n",
    "):\n",
    "    event[\"messages\"][-1].pretty_print()"
   ]
  },
  {
   "cell_type": "markdown",
   "metadata": {},
   "source": [
    "Note that the agent:\n",
    "\n",
    "1. Generates a query to search for a standard method for task decomposition;\n",
    "2. Receiving the answer, generates a second query to search for common extensions of it;\n",
    "3. Having received all necessary context, answers the question."
   ]
  },
  {
   "cell_type": "code",
   "execution_count": null,
   "metadata": {},
   "outputs": [],
   "source": []
  },
  {
   "cell_type": "markdown",
   "metadata": {},
   "source": [
    "## RAG for PDF Document using PyPDFLoader"
   ]
  },
  {
   "cell_type": "code",
   "execution_count": 34,
   "metadata": {},
   "outputs": [],
   "source": [
    "# 1.Initializing the PyPDFLoader\n",
    "\n",
    "from langchain_community.document_loaders import PyPDFLoader\n",
    "\n",
    "loader = PyPDFLoader(\n",
    "    \"Human-Centered_AI_in_Smart_Farming_Toward_Agriculture_5.0.pdf\",\n",
    ")"
   ]
  },
  {
   "cell_type": "code",
   "execution_count": 35,
   "metadata": {},
   "outputs": [
    {
     "data": {
      "text/plain": [
       "Document(metadata={'source': 'Human-Centered_AI_in_Smart_Farming_Toward_Agriculture_5.0.pdf', 'page': 0, 'page_label': '62199'}, page_content='Received 11 April 2024, accepted 28 April 2024, date of publication 30 April 2024, date of current version 8 May 2024.\\nDigital Object Identifier 10.1 109/ACCESS.2024.3395532\\nHuman-Centered AI in Smart Farming:\\nToward Agriculture 5.0\\nANDREAS HOLZINGER\\n 1,3,4, (Senior Member, IEEE), IZTOK FISTER JR.\\n1,2, (Member, IEEE),\\nIZTOK FISTER SR.2, (Member, IEEE), HANS-PETER KAUL\\n5,\\nAND SENTHOLD ASSENG6, (Member, IEEE)\\n1Human-Centered AI Laboratory, Department of Forest- and Soil Sciences, University of Natural Resources and Life Sciences Vienna, 1190 Vienna, Austria\\n2Faculty of Electrical Engineering and Computer Science, University of Maribor, 2000 Maribor, Slovenia\\n3Human-Centered AI Laboratory, Department for Agrobiotechnology, University of Natural Resources and Life Sciences Vienna, 3430 Tulln, Austria\\n4xAI Laboratory, Alberta Machine Intelligence Institute, Edmonton, AB T6G 2E8, Canada\\n5Department of Crop Sciences, University of Natural Resources and Life Sciences Vienna, 3430 Tulln, Austria\\n6School of Life Sciences, Department of Life Science Engineering, Chair of Digital Agriculture, HEF World Agricultural Systems Center, Technical University\\nMunich, 85354 Freising, Germany\\nCorresponding author: Andreas Holzinger (andreas.holzinger@human-centered.ai)\\nThis work was supported in part by Austrian Science Fund (FWF) through the Explainable Artificial Intelligence under Project 32554,\\nand in part by the Government of Lower Austria ‘‘Infrastructure for the Realistic Testing of AI-Supported Robot Systems’’\\nunder Project GFF NÖ FTI-22-I-004.\\nABSTRACT This paper delineates the contemporary landscape, challenges, and prospective developments\\nin human-centred artificial intelligence (AI) within the ambit of smart farming, a pivotal element of the\\nemergent Agriculture 5.0, supplanting Agriculture 4.0. Analogous to Industry 4.0, agriculture has witnessed\\na trend towards comprehensive automation, often marginalizing human involvement. However, this approach\\nhas encountered limitations in agricultural contexts for various reasons. While AI’s capacity to assume\\nhuman tasks is acknowledged, the inclusion of human expertise and experiential knowledge (human-in-\\nthe-loop) often proves indispensable, corroborated by the Moravec’s Paradox: tasks simple for humans\\nare complex for AI. Furthermore, social, ethical, and legal imperatives necessitate human oversight of AI,\\na stance strongly reflected in the European Union’s regulatory framework. Consequently, this paper explores\\nthe advancements in human-centred AI focusing on their application in agricultural processes. These\\ntechnological strides aim to enhance crop yields, minimize labor and resource wastage, and optimize the\\nfarm-to-consumer supply chain. The potential of AI to augment human decision-making, thereby fostering\\na sustainable, efficient, and resilient agri-food sector, is a focal point of this discussion - motivated by the\\ncurrent worldwide extreme weather events. Finally, a framework for Agriculture 5.0 is presented, which\\nbalances technological prowess with the needs, capabilities, and contexts of human stakeholders. Such an\\napproach, emphasizing accessible, intuitive AI systems that meaningfully complement human activities,\\nis crucial for the successful realization of future Agriculture 5.0.\\nINDEX TERMS Human-centered AI, smart farming, agriculture 5.0, digital transformation, artificial\\nintelligence.\\nI. INTRODUCTION\\nIn the summer of 2023, global agriculture faced substantial\\nchallenges due to a series of unexpected extreme weather\\nevents. Notably, in July 2023, Europe experienced a con-\\nfluence of extreme weather phenomena. Severe winds, often\\nThe associate editor coordinating the review of this manuscript and\\napproving it for publication was Derek Abbott\\n.\\naccompanied by hail, caused widespread damage [1]. These\\nconditions were further exacerbated by significant flooding\\nevents [2], [3] associated with catastrophic landslides. The\\nconcatenation and the cumulative impact of these events have\\nsignificantly weakened the agricultural sector: crops and live-\\nstock have been severely damaged or destroyed, agricultural\\ninfrastructure has been impaired and fields and water sources\\nhave been contaminated. This sequence of events highlights\\nVOLUME 12, 2024\\n\\n 2024 The Authors. This work is licensed under a Creative Commons Attribution 4.0 License.\\nFor more information, see https://creativecommons.org/licenses/by/4.0/ 62199')"
      ]
     },
     "execution_count": 35,
     "metadata": {},
     "output_type": "execute_result"
    }
   ],
   "source": [
    "# 2. Loading the PDF document\n",
    "\n",
    "docs = loader.load()\n",
    "docs[0]"
   ]
  },
  {
   "cell_type": "code",
   "execution_count": 36,
   "metadata": {},
   "outputs": [
    {
     "name": "stdout",
     "output_type": "stream",
     "text": [
      "Received 11 April 2024, accepted 28 April 2024, date of publication 30 April 2024, date of current version 8 May 2024.\n",
      "Digital Object Identifier 10.1 109/ACCESS.2024.3395532\n",
      "Human-Centered AI in Smart\n",
      "{'source': 'Human-Centered_AI_in_Smart_Farming_Toward_Agriculture_5.0.pdf', 'page': 0, 'page_label': '62199'}\n"
     ]
    }
   ],
   "source": [
    "# Page content and metadata of the document\n",
    "\n",
    "print(docs[0].page_content[:200])\n",
    "\n",
    "print(docs[0].metadata)"
   ]
  },
  {
   "cell_type": "code",
   "execution_count": 37,
   "metadata": {},
   "outputs": [
    {
     "data": {
      "text/plain": [
       "130"
      ]
     },
     "execution_count": 37,
     "metadata": {},
     "output_type": "execute_result"
    }
   ],
   "source": [
    "# 3. Splitting the document into chunks\n",
    "\n",
    "# Reinitialize the text splitter\n",
    "all_splits = text_splitter.split_documents(docs)\n",
    "\n",
    "len(all_splits)"
   ]
  },
  {
   "cell_type": "code",
   "execution_count": 38,
   "metadata": {},
   "outputs": [],
   "source": [
    "# 4. Vector Store & Embedding\n",
    "\n",
    "# Reinitialize the vector store\n",
    "vector_store = InMemoryVectorStore(embeddings)\n",
    "\n",
    "_ = vector_store.add_documents(documents=all_splits)"
   ]
  },
  {
   "cell_type": "code",
   "execution_count": 39,
   "metadata": {},
   "outputs": [
    {
     "name": "stdout",
     "output_type": "stream",
     "text": [
      "['ef6130e5-3815-4a7c-9550-e4c73b28668f', '6a70e1d0-7fea-4952-a41c-904eb3853010', '1ef8686e-ca26-45f5-bbfa-96b0d0390f70', '7e2bb49f-2d8a-44e0-afed-4b538d2244f8', 'fcc14105-b29a-49f2-9c5f-4de57d4c98e0', '446c123d-3176-4c58-b7d2-75a87be74e63', '0583d3fa-feee-4938-81b4-21d97ae58b8f', '18e4bd77-77c1-4058-b1b7-80ec6f912b6d', 'e77a947a-632c-4616-99c6-496cdc32ab2b', 'f32ee2c9-1205-4f2b-aa68-a7794f1f6108', '9d93182f-59fb-4e21-9ef2-3f5556146178', '41a4a2a3-3dc3-4bf1-9923-dd77dade07a5', '8a4658f6-cd8c-4806-b52c-eed56947e2a3', 'f4ee8d3d-d3f5-4b95-879e-a0209c9b90d1', '5b0c8127-bcc0-455d-95e2-fcbaebe51ddb', 'cdc56d5f-103a-403b-bdf3-cb76e763a847', '54d9ba84-f7e0-434e-a10d-8512475b32de', '5f2af011-262d-42d2-89cc-3818e00294eb', 'b527d6f7-03d2-474d-b7b3-606345937d15', 'b9ce15c1-d548-4b8c-a250-62afc7d49afe', '0be6017d-df4b-4a77-bf11-a4383acb9aab', 'aad2707b-89d1-43c5-b381-0db14b0a4b27', '34105956-b08b-4e4d-8823-cb837b94df8e', '51e6205a-c310-47ff-bab4-c6c516933fb3', 'ade85b3c-6b2b-49dd-89cd-d3ef5f882961', '9d39bc64-db5f-4a6b-9415-2db34ae80878', 'db68b65c-23cc-47a5-bed9-84d5e76b3ea8', '159ff519-0f83-405c-8a29-ea1da841cebe', 'c8abd262-6c34-4cf5-ae1d-e92792b70981', '0a075a26-9eda-402a-b0bd-c01661521c02', '2a1d7077-233e-47b4-a277-43fd57bc89f0', '3c20517a-5f7a-45c8-872e-2434650de3e1', 'aea8a3ed-2efd-410a-96c0-17473541862f', '06530254-3402-4376-b64f-d1293651168d', '55576529-956a-48e9-82bd-b49aa5cc083d', '7257ef2d-8c24-44ad-9ba4-1ec5de4c82ba', '7fbcb80e-6a20-4570-89da-d835a1b349ac', '4a608339-92a1-4cba-b878-807a9df3a3de', '9e286960-9a7b-4451-95eb-b1cf27cc8ce9', 'b2e2d63d-7cd1-4b7a-9517-3bcb063a88e1', 'ee4fc170-5dc6-4028-a403-9716d513cefd', '7cc7e3b5-bd51-43fa-adc7-5db58c1fce78', 'aad8bd1b-3b91-432c-9560-d687fab143a4', '72ea228c-130a-4714-85bd-4c7474f83c82', '723038f2-0661-4a66-86ad-2fb0e4e53bcc', '48a3d189-59b6-47ae-9b6e-d43741af6638', 'c9afa4bf-5d6d-48f3-b2dc-5ee52f84c717', 'd138f0b4-5619-48ad-9eab-e87aaf657543', 'ee5cd420-e2b7-492b-9bff-947ae94d9355', 'a3877074-029c-439e-b013-c47692b2ee3d', 'a16a44e6-dc37-4ba2-b220-84659a557cda', 'd6226c09-c3d8-4796-aca9-496c42676353', '6fab369b-6741-4f18-9606-485a915d2ba6', '414a4916-72c4-4b8f-817b-eee9030db808', '5316af2d-a6e2-412c-aaa0-7d14a59148e1', 'a794f63d-4195-4554-a665-1cbad5e7d3e6', 'b32d4c2a-2068-45cc-a014-cdc3733381ed', '62bf523f-2030-41f1-a625-84373bae9472', '8eb53e72-79f5-474d-bdd7-6a9d960606d3', '3fd43300-e4f5-4833-9a5d-2699984070fd', '5b991217-d9fd-49c0-86f3-25bb1df751f1', '01e514db-1c1b-42ee-9ad4-6c288431ffb2', 'eef2762a-74f4-42c2-88f4-c560fd151656', '2e7c9a64-b715-443e-8dd1-a3157c6c8e73', '40970b65-33d9-41f1-ba77-c8ce0a04afa2', 'e6276e5e-2d41-478e-bfc8-911c7bf9b00b', '9fd05959-e951-427c-8a37-8cd3519338d9', '09ee514f-add7-4063-96dc-8d72cd3bb1bb', '5ab6b6c8-417f-41be-953b-22d27f0edcf3', 'ceb14134-4440-4928-b49c-50e64671ddcf', 'edfcf125-cf3a-48a6-a2d7-8b5c840b6d2a', 'abc863b1-969b-4ac4-81ba-7be3d87f0948', 'fbfd22f6-f5a5-4248-8c74-ac6c9c829fc4', '8fc1baa3-c7ae-4aa4-9027-7b360acc2170', 'cc84f9f8-456d-48bc-b8da-327b2bd4c85c', 'c0d210f9-a638-4f39-bb84-35422e6e424e', '0a9e0306-37f9-4c80-89ac-2577349b1811', 'adfd2083-ce82-406f-83f2-a3354cef5d36', 'e8fbcd35-d909-4ae1-a03c-289df8f4d17c', 'c7f35583-4815-4df5-9748-e68819f41357', 'aa52a77c-4636-4658-b2f4-b2da1e574c7c', '0701203d-c40d-4651-a3ec-b590ea58a08e', '085a8882-1afe-4829-85ce-697270b86039', 'f4e40ff8-605a-4b59-adad-8fab176aadf6', 'fcb1fa32-ddd7-4398-b5c3-603d7cd00e42', 'a13a567a-c41c-4312-9313-7b84c81fde90', 'e33515b7-5cfa-4f11-a753-176c3dab152c', 'fc81c311-6773-4e89-929e-30ee1858e264', 'ab10e33e-3c45-4a48-a717-5bc7668dcc11', '8992142d-ced0-42ed-9fcd-f16941ed3a5f', 'b8747529-218f-4144-83c5-88e2a19a304f', '1842d55d-4fac-4526-b2de-793294d1ae4b', 'c0ffe18f-1293-4809-b25e-7b39d2421c28', '08e14a08-b0d3-4f43-8b2e-2a27983ab872', '1a8212af-a3f9-46cc-b5c6-62cd6a382f8e', '3dab3725-12ae-4b56-bd08-084fed678b71', 'd4d73608-0833-46f3-a731-f73594a2d104', '88f3b2c2-1b10-4b58-b56b-f6957b15a132', 'ec6a47d9-8052-4ed2-882e-da5ab3183b67', 'e6f98ecf-b569-429b-86dc-a884613314be', 'ec38ed20-62c4-4400-b639-b506a200bbd4', '0c9fd8fe-de7d-48a6-8cea-42111bafcf4c', '9316e9f8-c800-44ab-9c0d-67a242278233', '077d2442-a929-478b-89f1-372f509b782e', '6857fab1-231e-4eeb-a08a-8c8147e087d1', '23847ec6-ce7a-49a9-8117-0b503babcc95', '0d29b4f2-23ac-4eb3-85f9-759550055a0f', '155545cc-a8ce-41f3-836d-e424b04a6199', 'e0277aeb-ee87-4a74-bc0a-dbd4b88538b3', 'd5b2025a-da59-4bb0-b9a5-beea83f581a0', 'a27c1464-25f0-416d-8b57-1de13d0f2128', '157f7773-acc7-44b0-a614-fbb75b8b819e', 'ea8944fc-ef0f-4e6c-a178-668734bf0e92', '0a9eb185-9940-48fb-a8cf-e2b745a78e4d', '06fbad46-c3f3-4652-b857-9bd4cb97e196', '5620e215-6746-4056-8a37-3e1af37a2932', 'b8d2d193-8e3b-49ca-ae33-ba3dafda8e7b', 'c2b30d70-ac30-4436-bba6-79661614951c', '72ad6334-bd8f-434a-a382-5e3518554d00', 'bb129472-2efa-4fa3-b21c-e1c76e8159cd', '101965d9-d697-4e43-9933-72519497cbb6', '63cd53b5-dd01-451f-b15c-dfb76e117522', '6031944d-7017-436d-8efb-6c146df5c3a6', '8293b0fe-b899-4100-a070-22f41c86be60', '2c77a5a3-8ef3-4253-87a0-2c37b1144465', 'fb57583a-af5f-4e1e-b1f4-c44f58a51f95', 'f629bd17-fd7f-4cc8-a0ba-50d6d834b16a', '56ed0739-b5c4-451f-b4ee-25e344fe190f', 'd89705be-accb-463a-a69f-51b3ae37c362', '1197c6cd-8847-4656-8d37-e89ea7fadf30']\n"
     ]
    }
   ],
   "source": [
    "print(_)"
   ]
  },
  {
   "cell_type": "code",
   "execution_count": 40,
   "metadata": {},
   "outputs": [
    {
     "name": "stdout",
     "output_type": "stream",
     "text": [
      "================================\u001b[1m Human Message \u001b[0m=================================\n",
      "\n",
      "Mention the title of the document we are using\n",
      "\n",
      "Get the summary of the same document\n",
      "==================================\u001b[1m Ai Message \u001b[0m==================================\n",
      "Tool Calls:\n",
      "  retrieve (call_z78X6ctzusCghQ7sXxVmI7Ay)\n",
      " Call ID: call_z78X6ctzusCghQ7sXxVmI7Ay\n",
      "  Args:\n",
      "    query: title of the document\n",
      "=================================\u001b[1m Tool Message \u001b[0m=================================\n",
      "Name: retrieve\n",
      "\n",
      "Source: {'source': 'Human-Centered_AI_in_Smart_Farming_Toward_Agriculture_5.0.pdf', 'page': 0, 'page_label': '62199', 'start_index': 4272}\n",
      "Content: 2024 The Authors. This work is licensed under a Creative Commons Attribution 4.0 License.\n",
      "For more information, see https://creativecommons.org/licenses/by/4.0/ 62199\n",
      "\n",
      "Source: {'source': 'Human-Centered_AI_in_Smart_Farming_Toward_Agriculture_5.0.pdf', 'page': 0, 'page_label': '62199', 'start_index': 3294}\n",
      "Content: INDEX TERMS Human-centered AI, smart farming, agriculture 5.0, digital transformation, artificial\n",
      "intelligence.\n",
      "I. INTRODUCTION\n",
      "In the summer of 2023, global agriculture faced substantial\n",
      "challenges due to a series of unexpected extreme weather\n",
      "events. Notably, in July 2023, Europe experienced a con-\n",
      "fluence of extreme weather phenomena. Severe winds, often\n",
      "The associate editor coordinating the review of this manuscript and\n",
      "approving it for publication was Derek Abbott\n",
      ".\n",
      "accompanied by hail, caused widespread damage [1]. These\n",
      "conditions were further exacerbated by significant flooding\n",
      "events [2], [3] associated with catastrophic landslides. The\n",
      "concatenation and the cumulative impact of these events have\n",
      "significantly weakened the agricultural sector: crops and live-\n",
      "stock have been severely damaged or destroyed, agricultural\n",
      "infrastructure has been impaired and fields and water sources\n",
      "have been contaminated. This sequence of events highlights\n",
      "VOLUME 12, 2024\n",
      "==================================\u001b[1m Ai Message \u001b[0m==================================\n",
      "Tool Calls:\n",
      "  retrieve (call_goFrdo2ozY50kBVxUtIOa656)\n",
      " Call ID: call_goFrdo2ozY50kBVxUtIOa656\n",
      "  Args:\n",
      "    query: summary of Human-Centered_AI_in_Smart_Farming_Toward_Agriculture_5.0\n",
      "=================================\u001b[1m Tool Message \u001b[0m=================================\n",
      "Name: retrieve\n",
      "\n",
      "Source: {'source': 'Human-Centered_AI_in_Smart_Farming_Toward_Agriculture_5.0.pdf', 'page': 0, 'page_label': '62199', 'start_index': 1657}\n",
      "Content: in human-centred artificial intelligence (AI) within the ambit of smart farming, a pivotal element of the\n",
      "emergent Agriculture 5.0, supplanting Agriculture 4.0. Analogous to Industry 4.0, agriculture has witnessed\n",
      "a trend towards comprehensive automation, often marginalizing human involvement. However, this approach\n",
      "has encountered limitations in agricultural contexts for various reasons. While AI’s capacity to assume\n",
      "human tasks is acknowledged, the inclusion of human expertise and experiential knowledge (human-in-\n",
      "the-loop) often proves indispensable, corroborated by the Moravec’s Paradox: tasks simple for humans\n",
      "are complex for AI. Furthermore, social, ethical, and legal imperatives necessitate human oversight of AI,\n",
      "a stance strongly reflected in the European Union’s regulatory framework. Consequently, this paper explores\n",
      "the advancements in human-centred AI focusing on their application in agricultural processes. These\n",
      "\n",
      "Source: {'source': 'Human-Centered_AI_in_Smart_Farming_Toward_Agriculture_5.0.pdf', 'page': 3, 'page_label': '62202', 'start_index': 0}\n",
      "Content: A. Holzinger et al.: Human-Centered AI in Smart Farming: Toward Agriculture 5.0\n",
      "human feedback. This is not just about correcting errors but\n",
      "about aligning the system’s operations more closely with\n",
      "human values and needs. Such an approach is crucial to\n",
      "ensure that AI does not supplant human expertise. Instead,\n",
      "the vision is for AI to act as a collaborator, augmenting and\n",
      "enhancing human capabilities. In this light, AI becomes a\n",
      "powerful tool in the hands of domain experts, amplifying\n",
      "their skills and insights, rather than an entity that renders their\n",
      "expertise obsolete.\n",
      "While this is currently widely discussed, there is to date no\n",
      "single universally accepted framework for HCAI. However,\n",
      "there are general principles and methodologies that form\n",
      "the foundation of what might become a framework for\n",
      "HCAI. Here is an outline based on general principles and\n",
      "considerations:\n",
      "1) Human-Centered Design:\n",
      "• Understand and address user needs and contexts.\n",
      "==================================\u001b[1m Ai Message \u001b[0m==================================\n",
      "\n",
      "The title of the document is **\"Human-Centered AI in Smart Farming: Toward Agriculture 5.0.\"**\n",
      "\n",
      "### Summary:\n",
      "This paper discusses the role of human-centered artificial intelligence (HCAI) in smart farming, which is part of the emerging Agriculture 5.0, replacing Agriculture 4.0. It highlights the shift toward increased automation in agriculture, similar to Industry 4.0, often diminishing human involvement. However, this automation approach faces challenges, as the integration of human expertise and experiential knowledge is crucial, according to Moravec’s Paradox, which states that tasks simple for humans are complex for AI.\n",
      "\n",
      "The paper emphasizes the necessity of human oversight over AI due to social, ethical, and legal considerations, a viewpoint reflected in the European Union’s regulatory environment. The goal is for AI to enhance human capabilities rather than replace human expertise, acting as a collaborative tool for domain experts. \n",
      "\n",
      "While the concept of HCAI is actively discussed, there is currently no universally accepted framework. The paper outlines foundational principles for HCAI, emphasizing the importance of understanding and addressing user needs within the context of agricultural processes.\n"
     ]
    }
   ],
   "source": [
    "# 5. Performing RAG on the PDF document utilizing the previously built agent pipeline\n",
    "\n",
    "config= {\"configurable\": {\"thread_id\": \"def345\"}}\n",
    "input_message = (\n",
    "    \"Mention the title of the document we are using\\n\\n\"\n",
    "    \"Get the summary of the same document\"\n",
    ")\n",
    "\n",
    "for event in agent_executor.stream(\n",
    "    {\"messages\": [{\"role\": \"user\", \"content\": input_message}]},\n",
    "    stream_mode=\"values\",\n",
    "    config=config,\n",
    "):\n",
    "    event[\"messages\"][-1].pretty_print()"
   ]
  },
  {
   "cell_type": "code",
   "execution_count": null,
   "metadata": {},
   "outputs": [],
   "source": []
  }
 ],
 "metadata": {
  "kernelspec": {
   "display_name": "env",
   "language": "python",
   "name": "python3"
  },
  "language_info": {
   "codemirror_mode": {
    "name": "ipython",
    "version": 3
   },
   "file_extension": ".py",
   "mimetype": "text/x-python",
   "name": "python",
   "nbconvert_exporter": "python",
   "pygments_lexer": "ipython3",
   "version": "3.10.11"
  }
 },
 "nbformat": 4,
 "nbformat_minor": 2
}
